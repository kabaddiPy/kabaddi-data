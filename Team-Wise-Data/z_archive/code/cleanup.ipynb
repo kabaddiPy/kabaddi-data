{
 "cells": [
  {
   "metadata": {
    "ExecuteTime": {
     "end_time": "2024-08-24T14:07:10.949886Z",
     "start_time": "2024-08-24T14:07:09.965260Z"
    }
   },
   "cell_type": "code",
   "source": "import pandas as pd",
   "id": "8ebb9a4652b1ffa3",
   "outputs": [],
   "execution_count": 1
  },
  {
   "cell_type": "code",
   "execution_count": null,
   "id": "initial_id",
   "metadata": {
    "collapsed": true
   },
   "outputs": [],
   "source": [
    "df = pd.read_csv('all_seasons_team_stats.csv')\n",
    "\n",
    "start_col = 'team-average-raid-points_team_name'\n",
    "end_col = 'team-successful-tackles_team_name'\n",
    "\n",
    "start_idx = df.columns.get_loc(start_col)\n",
    "end_idx = df.columns.get_loc(end_col)\n",
    "\n",
    "df['team_name'] = df.iloc[:, start_idx]\n",
    "\n",
    "columns_to_keep = list(df.columns[:start_idx]) + ['team_name'] + list(df.columns[end_idx+1:])\n",
    "\n",
    "df_new = df[columns_to_keep]\n",
    "\n",
    "team_id_idx = df_new.columns.get_loc('team_id')\n",
    "cols = list(df_new.columns)\n",
    "cols.insert(team_id_idx + 1, cols.pop(cols.index('team_name')))\n",
    "df_new = df_new[cols]\n",
    "\n",
    "df_new.to_csv('all_seasons_team_stats_cleaned.csv', index=False)\n",
    "\n",
    "print(df_new.head())"
   ]
  },
  {
   "metadata": {},
   "cell_type": "code",
   "outputs": [],
   "execution_count": null,
   "source": [
    "df = pd.read_csv('all_seasons_team_stats_cleaned.csv')  # Make sure this is the name of your processed CSV file\n",
    "\n",
    "# Convert 'season' to string type to handle 'all' season\n",
    "df['season'] = df['season'].astype(str)\n",
    "\n",
    "# Create the first DataFrame for seasons 1-4\n",
    "df_seasons_1_4 = df[df['season'].isin(['1', '2', '3', '4'])]\n",
    "\n",
    "# Create the second DataFrame for seasons 5-10 and 'all'\n",
    "df_seasons_5_plus = df[df['season'].isin(['5', '6', '7', '8', '9', '10', 'all'])]\n",
    "\n",
    "# Save the first DataFrame to a CSV file\n",
    "df_seasons_1_4.to_csv('seasons_1_to_4.csv', index=False)\n",
    "\n",
    "# Save the second DataFrame to a CSV file\n",
    "df_seasons_5_plus.to_csv('seasons_5_plus_and_all.csv', index=False)\n",
    "\n",
    "print(f\"Number of rows in seasons 1-4 CSV: {len(df_seasons_1_4)}\")\n",
    "print(f\"Number of rows in seasons 5+ and 'all' CSV: {len(df_seasons_5_plus)}\")"
   ],
   "id": "e366cdaf8d8622a1"
  },
  {
   "metadata": {
    "ExecuteTime": {
     "end_time": "2024-08-24T14:07:55.781207Z",
     "start_time": "2024-08-24T14:07:55.760021Z"
    }
   },
   "cell_type": "code",
   "source": "df = pd.read_csv(\"seasons_1_to_4.csv\")\n",
   "id": "3c11c2ed273ae218",
   "outputs": [],
   "execution_count": 2
  },
  {
   "metadata": {
    "ExecuteTime": {
     "end_time": "2024-08-24T14:10:18.480707Z",
     "start_time": "2024-08-24T14:10:18.464962Z"
    }
   },
   "cell_type": "code",
   "source": [
    "df.dropna(axis=1, how='all', inplace=True)\n",
    "df.to_csv(\"seasons_1_to_4_final.csv\", index=False)"
   ],
   "id": "247bb4bb3ca9f84e",
   "outputs": [],
   "execution_count": 4
  }
 ],
 "metadata": {
  "kernelspec": {
   "display_name": "Python 3",
   "language": "python",
   "name": "python3"
  },
  "language_info": {
   "codemirror_mode": {
    "name": "ipython",
    "version": 2
   },
   "file_extension": ".py",
   "mimetype": "text/x-python",
   "name": "python",
   "nbconvert_exporter": "python",
   "pygments_lexer": "ipython2",
   "version": "2.7.6"
  }
 },
 "nbformat": 4,
 "nbformat_minor": 5
}
