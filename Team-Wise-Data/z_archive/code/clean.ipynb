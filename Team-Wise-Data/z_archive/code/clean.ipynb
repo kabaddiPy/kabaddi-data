{
 "cells": [
  {
   "cell_type": "code",
   "execution_count": 1,
   "metadata": {},
   "outputs": [],
   "source": [
    "import pandas as pd\n"
   ]
  },
  {
   "cell_type": "code",
   "execution_count": 3,
   "metadata": {},
   "outputs": [
    {
     "name": "stdout",
     "output_type": "stream",
     "text": [
      "team-average-raid-points_rank\n",
      "team-avg-points-scored_rank\n",
      "team-all-outs-conceded_rank\n",
      "team-successful-tackle-percent_rank\n",
      "team-super-raid_rank\n",
      "team-raid_rank\n",
      "team-successful-raid-percent_rank\n",
      "team-dod-raid-points_rank\n",
      "team-super-tackles_rank\n",
      "team-raid-points_rank\n",
      "team-successful-raids_rank\n",
      "team-total-points-conceded_rank\n",
      "team-tackle-points_rank\n",
      "team-total-points_rank\n",
      "team-successful-tackles-per-match_rank\n",
      "team-all-outs-inflicted_rank\n",
      "team-average-tackle-points_rank\n",
      "team-successful-tackles_rank\n"
     ]
    }
   ],
   "source": [
    "all_seasons = pd.read_csv(\"./all_seasons_team_stats_cleaned.csv\")\n",
    "\n",
    "cols = all_seasons.columns.tolist()\n",
    "\n",
    "for x in cols:\n",
    "    if x.endswith(\"_rank\"):\n",
    "        print(x)\n"
   ]
  },
  {
   "cell_type": "code",
   "execution_count": 5,
   "metadata": {},
   "outputs": [
    {
     "name": "stdout",
     "output_type": "stream",
     "text": [
      "team-average-raid-points_points_per_match\n",
      "team-avg-points-scored_points_per_match\n",
      "team-all-outs-conceded_points_per_match\n",
      "team-successful-tackle-percent_points_per_match\n",
      "team-super-raid_points_per_match\n",
      "team-raid_points_per_match\n",
      "team-successful-raid-percent_points_per_match\n",
      "team-dod-raid-points_points_per_match\n",
      "team-super-tackles_points_per_match\n",
      "team-raid-points_points_per_match\n",
      "team-successful-raids_points_per_match\n",
      "team-total-points-conceded_points_per_match\n",
      "team-tackle-points_points_per_match\n",
      "team-total-points_points_per_match\n",
      "team-successful-tackles-per-match_points_per_match\n",
      "team-all-outs-inflicted_points_per_match\n",
      "team-average-tackle-points_points_per_match\n",
      "team-successful-tackles_points_per_match\n"
     ]
    }
   ],
   "source": [
    "# seasons_5plus = pd.read_csv(\"./seasons_5_plus_and_all.csv\")\n",
    "\n",
    "# cols = all_seasons.columns.tolist()\n",
    "\n",
    "# for x in cols:\n",
    "#     if x.endswith(\"_per_match\"):\n",
    "#         print(x)\n"
   ]
  },
  {
   "cell_type": "code",
   "execution_count": 6,
   "metadata": {},
   "outputs": [],
   "source": [
    "import pandas as pd\n",
    "\n",
    "# Load the CSV file\n",
    "file_path = './seasons_5_plus_and_all.csv'\n",
    "df = pd.read_csv(file_path)\n",
    "\n",
    "# Identify columns that end with '_per_match'\n",
    "columns_to_round = [col for col in df.columns if col.endswith('_per_match')]\n",
    "\n",
    "# Round these columns to 2 decimal places\n",
    "df[columns_to_round] = df[columns_to_round].round(2)\n",
    "\n",
    "# Save the modified DataFrame back to the CSV file\n",
    "df.to_csv(file_path.replace(\".csv\", \"\") + \"_rounded.csv\", index=False)\n"
   ]
  },
  {
   "cell_type": "code",
   "execution_count": null,
   "metadata": {},
   "outputs": [],
   "source": []
  }
 ],
 "metadata": {
  "kernelspec": {
   "display_name": "cmu",
   "language": "python",
   "name": "python3"
  },
  "language_info": {
   "codemirror_mode": {
    "name": "ipython",
    "version": 3
   },
   "file_extension": ".py",
   "mimetype": "text/x-python",
   "name": "python",
   "nbconvert_exporter": "python",
   "pygments_lexer": "ipython3",
   "version": "3.10.14"
  }
 },
 "nbformat": 4,
 "nbformat_minor": 2
}
