{
 "cells": [
  {
   "cell_type": "code",
   "metadata": {
    "id": "ebBKNO19ZDpO",
    "ExecuteTime": {
     "end_time": "2024-08-20T20:05:57.547019Z",
     "start_time": "2024-08-20T20:05:51.330079Z"
    }
   },
   "source": [
    "%%capture\n",
    "!pip install selenium"
   ],
   "outputs": [],
   "execution_count": 1
  },
  {
   "cell_type": "code",
   "metadata": {
    "id": "s-QWYmjwZQNV",
    "ExecuteTime": {
     "end_time": "2024-08-20T20:06:21.563659Z",
     "start_time": "2024-08-20T20:06:18.022039Z"
    }
   },
   "source": [
    "import requests\n",
    "import csv\n",
    "from bs4 import BeautifulSoup\n",
    "from selenium  import webdriver\n",
    "import pandas as pd\n",
    "import numpy as np\n",
    "from selenium.webdriver.common.by import By\n",
    "import os\n",
    "from selenium.webdriver.common.keys import Keys"
   ],
   "outputs": [],
   "execution_count": 2
  },
  {
   "metadata": {
    "ExecuteTime": {
     "end_time": "2024-08-20T20:06:23.097198Z",
     "start_time": "2024-08-20T20:06:23.079808Z"
    }
   },
   "cell_type": "code",
   "source": [
    "from selenium.webdriver.support.ui import WebDriverWait\n",
    "from selenium.webdriver.support import expected_conditions as EC"
   ],
   "outputs": [],
   "execution_count": 3
  },
  {
   "cell_type": "code",
   "metadata": {
    "id": "GeCwEYOZZS2H",
    "ExecuteTime": {
     "end_time": "2024-08-20T20:06:36.002607Z",
     "start_time": "2024-08-20T20:06:26.067671Z"
    }
   },
   "source": [
    "options = webdriver.FirefoxOptions()\n",
    "options.add_argument(\"--headless\")\n",
    "driver = webdriver.Firefox(options=options)"
   ],
   "outputs": [],
   "execution_count": 4
  },
  {
   "cell_type": "code",
   "metadata": {
    "colab": {
     "base_uri": "https://localhost:8080/"
    },
    "id": "zA7BAI_XZs-g",
    "outputId": "b26bacd7-fa71-43b7-e912-706f1e05a672",
    "ExecuteTime": {
     "end_time": "2024-08-20T20:07:02.765594Z",
     "start_time": "2024-08-20T20:06:49.765693Z"
    }
   },
   "source": [
    "from time import sleep\n",
    "# \"https://public.tableau.com/views/DEMO_PKL_S9/PlayerPerformance?%3Adisplay_static_image=y&%3Aembed=true&%3Aembed=y&%3Alanguage=en-US&publish=yes%20&%3AshowVizHome=n&%3AapiID=host0#navType=0&navSrc=Parse\"\n",
    "driver.get(\n",
    "           \"https://public.tableau.com/views/DEMO_PKL_S9/RaiderSkills?%3Adisplay_static_image=y&%3Aembed=true&%3Aembed=y&%3Alanguage=en-US&publish=yes%20&%3AshowVizHome=n&%3AapiID=host0#navType=0&navSrc=Parse\"\n",
    "        )\n",
    "sleep(10)\n",
    "driver.find_elements(By.CLASS_NAME, \"tabComboBoxNameContainer\")[2].click()\n",
    "driver.find_elements(By.CLASS_NAME, \"FICheckRadio\")[4].click()\n",
    "driver.save_screenshot(\"ss-1.png\")"
   ],
   "outputs": [
    {
     "data": {
      "text/plain": [
       "True"
      ]
     },
     "execution_count": 5,
     "metadata": {},
     "output_type": "execute_result"
    }
   ],
   "execution_count": 5
  },
  {
   "cell_type": "code",
   "metadata": {
    "colab": {
     "base_uri": "https://localhost:8080/"
    },
    "id": "XCKxSYAGaI_s",
    "outputId": "70d32514-016e-4f5c-cc3f-37656d81b8b6",
    "ExecuteTime": {
     "end_time": "2024-08-20T20:21:28.708600Z",
     "start_time": "2024-08-20T20:21:16.103385Z"
    }
   },
   "source": [
    "y=2\n",
    "driver.find_elements(By.CLASS_NAME, \"tabComboBoxNameContainer\")[2].click()\n",
    "print(str(y) + \" - a\")\n",
    "driver.find_elements(By.CLASS_NAME, \"FICheckRadio\")[1].click()\n",
    "sleep(2)\n",
    "print(str(y) + \" - b\")\n",
    "driver.save_screenshot(\"screenshot-2.png\")\n",
    "sleep(10)\n",
    "#driver.find_elements(By.CLASS_NAME, \"tabComboBoxNameContainer\")[0]. click()\n",
    "webdriver.ActionChains(driver).send_keys(Keys.ESCAPE).perform()\n",
    "driver.save_screenshot(\"ss-3.png\")"
   ],
   "outputs": [
    {
     "name": "stdout",
     "output_type": "stream",
     "text": [
      "2 - a\n",
      "2 - b\n"
     ]
    },
    {
     "data": {
      "text/plain": [
       "True"
      ]
     },
     "execution_count": 28,
     "metadata": {},
     "output_type": "execute_result"
    }
   ],
   "execution_count": 28
  },
  {
   "metadata": {
    "ExecuteTime": {
     "end_time": "2024-08-20T18:27:53.771516Z",
     "start_time": "2024-08-20T18:27:53.529280Z"
    }
   },
   "cell_type": "code",
   "source": "#DO NOT RUN ABOVE\n",
   "outputs": [],
   "execution_count": 41
  },
  {
   "cell_type": "code",
   "metadata": {
    "colab": {
     "base_uri": "https://localhost:8080/"
    },
    "id": "Rv06hHcKapH9",
    "outputId": "b76eb9c1-e454-4c41-8e1b-3d7167ae6e13",
    "ExecuteTime": {
     "end_time": "2024-08-20T21:03:15.097959Z",
     "start_time": "2024-08-20T21:03:14.392047Z"
    }
   },
   "source": [
    "# sleep(10)\n",
    "driver.find_elements(By.CLASS_NAME, \"tabComboBoxNameContainer\")[0].click()\n",
    "driver.find_elements(By.CLASS_NAME, \"FICheckRadio\")[7].click()\n",
    "driver.save_screenshot(\"ss-3_5.png\")"
   ],
   "outputs": [
    {
     "data": {
      "text/plain": [
       "True"
      ]
     },
     "execution_count": 118,
     "metadata": {},
     "output_type": "execute_result"
    }
   ],
   "execution_count": 118
  },
  {
   "metadata": {
    "ExecuteTime": {
     "end_time": "2024-08-20T21:04:12.218029Z",
     "start_time": "2024-08-20T21:03:54.856816Z"
    }
   },
   "cell_type": "code",
   "source": [
    "sleep(5)\n",
    "driver.find_elements(By.CLASS_NAME, \"FICheckRadio\")[6].click()\n",
    "print(\"stage 1\")\n",
    "sleep(2)\n",
    "driver.save_screenshot(\"screenshot-3_6.png\")\n",
    "sleep(10)\n",
    "print(\"stage 2\")\n",
    "#driver.find_elements(By.CLASS_NAME, \"tabComboBoxNameContainer\")[0]. click()\n",
    "webdriver.ActionChains(driver).send_keys(Keys.ESCAPE).perform()\n",
    "driver.save_screenshot(\"ss-3_7.png\")"
   ],
   "outputs": [
    {
     "name": "stdout",
     "output_type": "stream",
     "text": [
      "stage 1\n",
      "stage 2\n"
     ]
    },
    {
     "data": {
      "text/plain": [
       "True"
      ]
     },
     "execution_count": 123,
     "metadata": {},
     "output_type": "execute_result"
    }
   ],
   "execution_count": 123
  },
  {
   "metadata": {
    "ExecuteTime": {
     "end_time": "2024-08-20T21:04:12.270202Z",
     "start_time": "2024-08-20T21:04:12.218029Z"
    }
   },
   "cell_type": "code",
   "source": "driver.save_screenshot(\"test.png\")",
   "outputs": [
    {
     "data": {
      "text/plain": [
       "True"
      ]
     },
     "execution_count": 124,
     "metadata": {},
     "output_type": "execute_result"
    }
   ],
   "execution_count": 124
  },
  {
   "cell_type": "code",
   "metadata": {
    "colab": {
     "base_uri": "https://localhost:8080/"
    },
    "id": "KSY0Igy9ezTx",
    "outputId": "80427d42-bee8-4f63-8a4f-fb9774fccb19",
    "ExecuteTime": {
     "end_time": "2024-08-20T21:04:45.162502Z",
     "start_time": "2024-08-20T21:04:41.798149Z"
    }
   },
   "source": [
    "sleep(3)\n",
    "#download_button = driver.find_element(By.ID, \"download\")\n",
    "download_button = WebDriverWait(driver, 10).until(\n",
    "    EC.element_to_be_clickable((By.ID, \"download\"))\n",
    ")\n",
    "download_button.click()\n",
    "driver.save_screenshot(\"ss-4.png\")"
   ],
   "outputs": [
    {
     "data": {
      "text/plain": [
       "True"
      ]
     },
     "execution_count": 128,
     "metadata": {},
     "output_type": "execute_result"
    }
   ],
   "execution_count": 128
  },
  {
   "cell_type": "code",
   "metadata": {
    "id": "OStjMiEkfXTF",
    "ExecuteTime": {
     "end_time": "2024-08-20T21:04:47.463133Z",
     "start_time": "2024-08-20T21:04:45.162502Z"
    }
   },
   "source": [
    "sleep(2)\n",
    "frvoegc_elements = driver.find_elements(By.CLASS_NAME, \"frvoegc\")\n",
    "if len(frvoegc_elements) > 1:\n",
    "    frvoegc_elements[1].click()\n",
    "driver.save_screenshot(\"ss-5.png\")"
   ],
   "outputs": [
    {
     "data": {
      "text/plain": [
       "True"
      ]
     },
     "execution_count": 129,
     "metadata": {},
     "output_type": "execute_result"
    }
   ],
   "execution_count": 129
  },
  {
   "cell_type": "code",
   "metadata": {
    "colab": {
     "base_uri": "https://localhost:8080/"
    },
    "id": "ga1UV1Qmf00k",
    "outputId": "b0cc3862-35b1-4728-97c3-5d72b001320b",
    "ExecuteTime": {
     "end_time": "2024-08-20T21:05:07.903073Z",
     "start_time": "2024-08-20T21:05:03.594206Z"
    }
   },
   "source": [
    "sleep(4)\n",
    "# view_button = driver.find_element(By.CLASS_NAME, \"f1r23t9y\")\n",
    "# view_button.click()\n",
    "# driver.save_screenshot(\"ss-6.png\")\n",
    "wait = WebDriverWait(driver, 12)\n",
    "view_button = wait.until(EC.presence_of_element_located((By.CLASS_NAME, \"f1r23t9y\")))\n",
    "view_button.click()\n",
    "driver.save_screenshot(\"ss-6.png\")"
   ],
   "outputs": [
    {
     "data": {
      "text/plain": [
       "True"
      ]
     },
     "execution_count": 131,
     "metadata": {},
     "output_type": "execute_result"
    }
   ],
   "execution_count": 131
  },
  {
   "cell_type": "code",
   "metadata": {
    "colab": {
     "base_uri": "https://localhost:8080/"
    },
    "id": "OZeljWOsgtOD",
    "outputId": "5465fe2f-2eef-4a70-be87-ba7b4f8e0f4f",
    "ExecuteTime": {
     "end_time": "2024-08-20T21:05:09.205866Z",
     "start_time": "2024-08-20T21:05:07.903073Z"
    }
   },
   "source": [
    "sleep(1)\n",
    "view_elements = driver.find_elements(By.CLASS_NAME, \"ftmd0dp\")\n",
    "if len(view_elements) > 1:\n",
    "  view_elements[1].click()\n",
    "driver.save_screenshot(\"ss-7.png\")"
   ],
   "outputs": [
    {
     "data": {
      "text/plain": [
       "True"
      ]
     },
     "execution_count": 132,
     "metadata": {},
     "output_type": "execute_result"
    }
   ],
   "execution_count": 132
  },
  {
   "cell_type": "code",
   "metadata": {
    "colab": {
     "base_uri": "https://localhost:8080/"
    },
    "id": "GP-Cs1p0hTzh",
    "outputId": "dc5dd684-6399-4fa7-eff3-3e2fc85e061e",
    "ExecuteTime": {
     "end_time": "2024-08-20T21:05:10.500770Z",
     "start_time": "2024-08-20T21:05:09.205866Z"
    }
   },
   "source": [
    "sleep(1)\n",
    "select = driver.find_element(By.CLASS_NAME, \"fx9ypnu\")\n",
    "select.click()\n",
    "driver.save_screenshot(\"ss-8.png\")"
   ],
   "outputs": [
    {
     "data": {
      "text/plain": [
       "True"
      ]
     },
     "execution_count": 133,
     "metadata": {},
     "output_type": "execute_result"
    }
   ],
   "execution_count": 133
  },
  {
   "cell_type": "code",
   "metadata": {
    "colab": {
     "base_uri": "https://localhost:8080/"
    },
    "id": "gATJ8B_gh3Hr",
    "outputId": "193fd5b8-1fa6-4b44-aa90-068bd2991941",
    "ExecuteTime": {
     "end_time": "2024-08-20T21:05:11.797049Z",
     "start_time": "2024-08-20T21:05:10.500770Z"
    }
   },
   "source": [
    "sleep(1)\n",
    "dwnld = driver.find_element(By.CLASS_NAME, \"fc9tep5\")\n",
    "dwnld.click()\n",
    "driver.save_screenshot(\"ss-final.png\")"
   ],
   "outputs": [
    {
     "data": {
      "text/plain": [
       "True"
      ]
     },
     "execution_count": 134,
     "metadata": {},
     "output_type": "execute_result"
    }
   ],
   "execution_count": 134
  }
 ],
 "metadata": {
  "colab": {
   "provenance": []
  },
  "kernelspec": {
   "display_name": "Python 3 (ipykernel)",
   "name": "python3",
   "language": "python"
  },
  "language_info": {
   "codemirror_mode": {
    "name": "ipython",
    "version": 3
   },
   "file_extension": ".py",
   "mimetype": "text/x-python",
   "name": "python",
   "nbconvert_exporter": "python",
   "pygments_lexer": "ipython3",
   "version": "3.12.4"
  }
 },
 "nbformat": 4,
 "nbformat_minor": 0
}
