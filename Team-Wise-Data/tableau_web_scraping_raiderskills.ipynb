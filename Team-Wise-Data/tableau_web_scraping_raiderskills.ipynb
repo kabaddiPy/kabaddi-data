{
  "nbformat": 4,
  "nbformat_minor": 0,
  "metadata": {
    "colab": {
      "provenance": []
    },
    "kernelspec": {
      "name": "python3",
      "display_name": "Python 3"
    },
    "language_info": {
      "name": "python"
    }
  },
  "cells": [
    {
      "cell_type": "code",
      "execution_count": 1,
      "metadata": {
        "id": "ebBKNO19ZDpO"
      },
      "outputs": [],
      "source": [
        "%%capture\n",
        "!pip install selenium"
      ]
    },
    {
      "cell_type": "code",
      "source": [
        "import requests\n",
        "import csv\n",
        "from bs4 import BeautifulSoup\n",
        "from selenium  import webdriver\n",
        "import pandas as pd\n",
        "import numpy as np\n",
        "from selenium.webdriver.common.by import By\n",
        "import os\n",
        "from selenium.webdriver.common.keys import Keys"
      ],
      "metadata": {
        "id": "s-QWYmjwZQNV"
      },
      "execution_count": 18,
      "outputs": []
    },
    {
      "cell_type": "code",
      "source": [
        "options = webdriver.FirefoxOptions()\n",
        "options.add_argument(\"--headless\")\n",
        "driver = webdriver.Firefox(options=options)"
      ],
      "metadata": {
        "id": "GeCwEYOZZS2H"
      },
      "execution_count": 3,
      "outputs": []
    },
    {
      "cell_type": "code",
      "source": [
        "from time import sleep\n",
        "driver.get(\n",
        "            \"https://public.tableau.com/views/DEMO_PKL_S9/PlayerPerformance?%3Adisplay_static_image=y&%3Aembed=true&%3Aembed=y&%3Alanguage=en-US&publish=yes%20&%3AshowVizHome=n&%3AapiID=host0#navType=0&navSrc=Parse\"\n",
        "        )\n",
        "sleep(10)\n",
        "driver.find_elements(By.CLASS_NAME, \"tabComboBoxNameContainer\")[0].click()\n",
        "driver.find_elements(By.CLASS_NAME, \"FICheckRadio\")[5].click()\n",
        "driver.save_screenshot(\"ss-1.png\")"
      ],
      "metadata": {
        "colab": {
          "base_uri": "https://localhost:8080/"
        },
        "id": "zA7BAI_XZs-g",
        "outputId": "b26bacd7-fa71-43b7-e912-706f1e05a672"
      },
      "execution_count": 6,
      "outputs": [
        {
          "output_type": "execute_result",
          "data": {
            "text/plain": [
              "True"
            ]
          },
          "metadata": {},
          "execution_count": 6
        }
      ]
    },
    {
      "cell_type": "code",
      "source": [
        "            y=1\n",
        "            print(str(y) + \" - a\")\n",
        "            driver.find_elements(By.CLASS_NAME, \"FICheckRadio\")[y].click()\n",
        "            sleep(2)\n",
        "            print(str(y) + \" - b\")\n",
        "            driver.save_screenshot(\"screenshot-2.png\")\n",
        "            sleep(10)\n",
        "            #driver.find_elements(By.CLASS_NAME, \"tabComboBoxNameContainer\")[0]. click()\n",
        "            webdriver.ActionChains(driver).send_keys(Keys.ESCAPE).perform()\n",
        "            driver.save_screenshot(\"ss-3.png\")"
      ],
      "metadata": {
        "colab": {
          "base_uri": "https://localhost:8080/"
        },
        "id": "XCKxSYAGaI_s",
        "outputId": "70d32514-016e-4f5c-cc3f-37656d81b8b6"
      },
      "execution_count": 8,
      "outputs": [
        {
          "output_type": "stream",
          "name": "stdout",
          "text": [
            "1 - a\n",
            "1 - b\n"
          ]
        },
        {
          "output_type": "execute_result",
          "data": {
            "text/plain": [
              "True"
            ]
          },
          "metadata": {},
          "execution_count": 8
        }
      ]
    },
    {
      "cell_type": "code",
      "source": [
        "# sleep(10)\n",
        "# driver.find_elements(By.CLASS_NAME, \"tabComboBoxNameContainer\")[0].click()\n",
        "# driver.save_screenshot(\"ss-3.png\")"
      ],
      "metadata": {
        "colab": {
          "base_uri": "https://localhost:8080/"
        },
        "id": "Rv06hHcKapH9",
        "outputId": "b76eb9c1-e454-4c41-8e1b-3d7167ae6e13"
      },
      "execution_count": 10,
      "outputs": [
        {
          "output_type": "execute_result",
          "data": {
            "text/plain": [
              "True"
            ]
          },
          "metadata": {},
          "execution_count": 10
        }
      ]
    },
    {
      "cell_type": "code",
      "source": [
        "download_button = driver.find_element(By.ID, \"download\")\n",
        "download_button.click()\n",
        "driver.save_screenshot(\"ss-4.png\")"
      ],
      "metadata": {
        "colab": {
          "base_uri": "https://localhost:8080/"
        },
        "id": "KSY0Igy9ezTx",
        "outputId": "80427d42-bee8-4f63-8a4f-fb9774fccb19"
      },
      "execution_count": 9,
      "outputs": [
        {
          "output_type": "execute_result",
          "data": {
            "text/plain": [
              "True"
            ]
          },
          "metadata": {},
          "execution_count": 9
        }
      ]
    },
    {
      "cell_type": "code",
      "source": [
        "        sleep(2)\n",
        "        frvoegc_elements = driver.find_elements(By.CLASS_NAME, \"frvoegc\")\n",
        "        if len(frvoegc_elements) > 1:\n",
        "            frvoegc_elements[1].click()"
      ],
      "metadata": {
        "id": "OStjMiEkfXTF"
      },
      "execution_count": 12,
      "outputs": []
    },
    {
      "cell_type": "code",
      "source": [
        "driver.save_screenshot(\"ss-5.png\")"
      ],
      "metadata": {
        "colab": {
          "base_uri": "https://localhost:8080/"
        },
        "id": "lztV0-9ZfnZf",
        "outputId": "442eff39-2dce-416d-e0b2-8fffc3692bb6"
      },
      "execution_count": 13,
      "outputs": [
        {
          "output_type": "execute_result",
          "data": {
            "text/plain": [
              "True"
            ]
          },
          "metadata": {},
          "execution_count": 13
        }
      ]
    },
    {
      "cell_type": "code",
      "source": [
        "view_button = driver.find_element(By.CLASS_NAME, \"f1r23t9y\")\n",
        "view_button.click()\n",
        "driver.save_screenshot(\"ss-6.png\")"
      ],
      "metadata": {
        "colab": {
          "base_uri": "https://localhost:8080/"
        },
        "id": "ga1UV1Qmf00k",
        "outputId": "b0cc3862-35b1-4728-97c3-5d72b001320b"
      },
      "execution_count": 14,
      "outputs": [
        {
          "output_type": "execute_result",
          "data": {
            "text/plain": [
              "True"
            ]
          },
          "metadata": {},
          "execution_count": 14
        }
      ]
    },
    {
      "cell_type": "code",
      "source": [
        "sleep(1)\n",
        "view_elements = driver.find_elements(By.CLASS_NAME, \"ftmd0dp\")\n",
        "if len(view_elements) > 1:\n",
        "  view_elements[1].click()\n",
        "driver.save_screenshot(\"ss-7.png\")"
      ],
      "metadata": {
        "colab": {
          "base_uri": "https://localhost:8080/"
        },
        "id": "OZeljWOsgtOD",
        "outputId": "5465fe2f-2eef-4a70-be87-ba7b4f8e0f4f"
      },
      "execution_count": 15,
      "outputs": [
        {
          "output_type": "execute_result",
          "data": {
            "text/plain": [
              "True"
            ]
          },
          "metadata": {},
          "execution_count": 15
        }
      ]
    },
    {
      "cell_type": "code",
      "source": [
        "sleep(1)\n",
        "select = driver.find_element(By.CLASS_NAME, \"fx9ypnu\")\n",
        "select.click()\n",
        "driver.save_screenshot(\"ss-8.png\")"
      ],
      "metadata": {
        "colab": {
          "base_uri": "https://localhost:8080/"
        },
        "id": "GP-Cs1p0hTzh",
        "outputId": "dc5dd684-6399-4fa7-eff3-3e2fc85e061e"
      },
      "execution_count": 16,
      "outputs": [
        {
          "output_type": "execute_result",
          "data": {
            "text/plain": [
              "True"
            ]
          },
          "metadata": {},
          "execution_count": 16
        }
      ]
    },
    {
      "cell_type": "code",
      "source": [
        "sleep(1)\n",
        "dwnld = driver.find_element(By.CLASS_NAME, \"fc9tep5\")\n",
        "dwnld.click()\n",
        "driver.save_screenshot(\"ss-final.png\")"
      ],
      "metadata": {
        "colab": {
          "base_uri": "https://localhost:8080/"
        },
        "id": "gATJ8B_gh3Hr",
        "outputId": "193fd5b8-1fa6-4b44-aa90-068bd2991941"
      },
      "execution_count": 17,
      "outputs": [
        {
          "output_type": "execute_result",
          "data": {
            "text/plain": [
              "True"
            ]
          },
          "metadata": {},
          "execution_count": 17
        }
      ]
    }
  ]
}