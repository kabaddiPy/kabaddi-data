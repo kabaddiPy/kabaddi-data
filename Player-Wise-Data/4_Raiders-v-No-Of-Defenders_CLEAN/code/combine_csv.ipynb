{
 "cells": [
  {
   "cell_type": "code",
   "execution_count": 1,
   "metadata": {},
   "outputs": [],
   "source": [
    "import os\n",
    "\n",
    "import pandas as pd\n"
   ]
  },
  {
   "cell_type": "code",
   "execution_count": 2,
   "metadata": {},
   "outputs": [
    {
     "data": {
      "text/plain": [
       "(['Bengal Warriors s5 conv_clean.csv',\n",
       "  'Dabang Delhi s5 conv_clean.csv',\n",
       "  'Gujarat Fortunegiants s5 conv_clean.csv',\n",
       "  'Haryana Steelers s5 conv_clean.csv',\n",
       "  'Jaipur Pink Panthers s5 conv_clean.csv',\n",
       "  'Patna Pirates s5 conv_clean.csv',\n",
       "  'Puneri Paltan s5 conv_clean.csv',\n",
       "  'Tamil Thailaivas s5 conv_clean.csv',\n",
       "  'Telugu Titans s5 conv_clean.csv',\n",
       "  'U Mumba s5 conv_clean.csv',\n",
       "  'UP Yoddha s5 conv.csv',\n",
       "  'bengaluru bulls s5 conv_clean.csv'],\n",
       " 12)"
      ]
     },
     "execution_count": 2,
     "metadata": {},
     "output_type": "execute_result"
    }
   ],
   "source": [
    "df_paths = [i for i in os.listdir(\"./s5_csv/csv/\") if i.endswith(\".csv\") and \"$\" not in i]\n",
    "df_paths.sort()\n",
    "df_paths, len(df_paths)\n",
    "\n"
   ]
  },
  {
   "cell_type": "code",
   "execution_count": 53,
   "metadata": {},
   "outputs": [],
   "source": [
    "# for x in df_paths:\n",
    "#     print(x.split(\"s6\")[0])\n"
   ]
  },
  {
   "cell_type": "code",
   "execution_count": 3,
   "metadata": {},
   "outputs": [],
   "source": [
    "season_name = 's5'\n",
    "\n",
    "df_merged_list = []\n",
    "df_0 = pd.read_csv(\"./s5_csv/csv/\" + df_paths[0])\n",
    "\n",
    "df_0[\"team_name\"] = df_paths[0].split(season_name)[0].strip()\n",
    "df_0[\"season\"] = \"PKL-0\" + season_name[-1]\n",
    "df_merged_list.append(df_0)\n"
   ]
  },
  {
   "cell_type": "code",
   "execution_count": 5,
   "metadata": {},
   "outputs": [
    {
     "data": {
      "text/plain": [
       "'Bengal Warriors'"
      ]
     },
     "execution_count": 5,
     "metadata": {},
     "output_type": "execute_result"
    }
   ],
   "source": [
    "df_paths[0].split(\"s5\")[0].strip()\n"
   ]
  },
  {
   "cell_type": "code",
   "execution_count": 6,
   "metadata": {},
   "outputs": [
    {
     "name": "stdout",
     "output_type": "stream",
     "text": [
      "['Bengal Warriors s5 conv_clean.csv', 'Dabang Delhi s5 conv_clean.csv', 'Gujarat Fortunegiants s5 conv_clean.csv', 'Haryana Steelers s5 conv_clean.csv', 'Jaipur Pink Panthers s5 conv_clean.csv', 'Patna Pirates s5 conv_clean.csv', 'Puneri Paltan s5 conv_clean.csv', 'Tamil Thailaivas s5 conv_clean.csv', 'Telugu Titans s5 conv_clean.csv', 'U Mumba s5 conv_clean.csv', 'UP Yoddha s5 conv.csv', 'bengaluru bulls s5 conv_clean.csv'] 12 1\n"
     ]
    }
   ],
   "source": [
    "print(df_paths, len(df_paths), len(df_merged_list))\n"
   ]
  },
  {
   "cell_type": "code",
   "execution_count": 7,
   "metadata": {},
   "outputs": [
    {
     "name": "stdout",
     "output_type": "stream",
     "text": [
      "Dabang Delhi\n",
      "Gujarat Fortunegiants\n",
      "Haryana Steelers\n",
      "Jaipur Pink Panthers\n",
      "Patna Pirates\n",
      "Puneri Paltan\n",
      "Tamil Thailaivas\n",
      "Telugu Titans\n",
      "U Mumba\n",
      "UP Yoddha\n",
      "bengaluru bulls\n"
     ]
    }
   ],
   "source": [
    "for i in range(1, len(df_paths)):\n",
    "    df = pd.read_csv(\"./s5_csv/csv/\" + df_paths[i])\n",
    "    print(df_paths[i].split(season_name)[0].strip())\n",
    "    df[\"team_name\"] = df_paths[i].split(season_name)[0].strip()\n",
    "    df[\"season\"] = \"PKL-0\" + season_name[-1]\n",
    "    df_merged_list.append(df)\n"
   ]
  },
  {
   "cell_type": "code",
   "execution_count": null,
   "metadata": {},
   "outputs": [],
   "source": [
    "\n"
   ]
  },
  {
   "cell_type": "code",
   "execution_count": 8,
   "metadata": {},
   "outputs": [],
   "source": [
    "df_merged = pd.concat(df_merged_list, axis=0, ignore_index=True)\n"
   ]
  },
  {
   "cell_type": "code",
   "execution_count": 9,
   "metadata": {},
   "outputs": [
    {
     "data": {
      "text/plain": [
       "58"
      ]
     },
     "execution_count": 9,
     "metadata": {},
     "output_type": "execute_result"
    }
   ],
   "source": [
    "len(df_merged[df_merged[\"team_name\"] == \"UP Yoddha\"])\n"
   ]
  },
  {
   "cell_type": "code",
   "execution_count": 11,
   "metadata": {},
   "outputs": [
    {
     "name": "stdout",
     "output_type": "stream",
     "text": [
      "58\n"
     ]
    },
    {
     "data": {
      "text/plain": [
       "['Raider Name',\n",
       " 'Number of Defenders',\n",
       " 'Total Raids',\n",
       " '% of Raids',\n",
       " 'Empty',\n",
       " 'Successful',\n",
       " 'Unsuccessful',\n",
       " 'team_name',\n",
       " 'season']"
      ]
     },
     "execution_count": 11,
     "metadata": {},
     "output_type": "execute_result"
    }
   ],
   "source": [
    "df_up = pd.read_csv(f\"./s5_csv/csv/\" + f\"UP Yoddha {season_name} conv_clean.csv\")\n",
    "print(len(df_up))\n",
    "\n",
    "df_merged.columns.tolist()\n"
   ]
  },
  {
   "cell_type": "code",
   "execution_count": 12,
   "metadata": {},
   "outputs": [
    {
     "name": "stdout",
     "output_type": "stream",
     "text": [
      "<class 'pandas.core.frame.DataFrame'>\n",
      "RangeIndex: 716 entries, 0 to 715\n",
      "Data columns (total 9 columns):\n",
      " #   Column               Non-Null Count  Dtype  \n",
      "---  ------               --------------  -----  \n",
      " 0   Raider Name          621 non-null    object \n",
      " 1   Number of Defenders  669 non-null    float64\n",
      " 2   Total Raids          669 non-null    float64\n",
      " 3   % of Raids           669 non-null    object \n",
      " 4   Empty                558 non-null    object \n",
      " 5   Successful           444 non-null    object \n",
      " 6   Unsuccessful         468 non-null    object \n",
      " 7   team_name            716 non-null    object \n",
      " 8   season               716 non-null    object \n",
      "dtypes: float64(2), object(7)\n",
      "memory usage: 50.5+ KB\n"
     ]
    }
   ],
   "source": [
    "df_merged.info()\n"
   ]
  },
  {
   "cell_type": "code",
   "execution_count": 13,
   "metadata": {},
   "outputs": [],
   "source": [
    "df_merged = df_merged[['season','team_name','Raider Name',\n",
    " 'Number of Defenders',\n",
    " 'Total Raids',\n",
    " '% of Raids',\n",
    " 'Empty',\n",
    " 'Successful',\n",
    " 'Unsuccessful']]\n"
   ]
  },
  {
   "cell_type": "code",
   "execution_count": 14,
   "metadata": {},
   "outputs": [
    {
     "data": {
      "text/html": [
       "<div>\n",
       "<style scoped>\n",
       "    .dataframe tbody tr th:only-of-type {\n",
       "        vertical-align: middle;\n",
       "    }\n",
       "\n",
       "    .dataframe tbody tr th {\n",
       "        vertical-align: top;\n",
       "    }\n",
       "\n",
       "    .dataframe thead th {\n",
       "        text-align: right;\n",
       "    }\n",
       "</style>\n",
       "<table border=\"1\" class=\"dataframe\">\n",
       "  <thead>\n",
       "    <tr style=\"text-align: right;\">\n",
       "      <th></th>\n",
       "      <th>season</th>\n",
       "      <th>team_name</th>\n",
       "      <th>Raider Name</th>\n",
       "      <th>Number of Defenders</th>\n",
       "      <th>Total Raids</th>\n",
       "      <th>% of Raids</th>\n",
       "      <th>Empty</th>\n",
       "      <th>Successful</th>\n",
       "      <th>Unsuccessful</th>\n",
       "    </tr>\n",
       "  </thead>\n",
       "  <tbody>\n",
       "    <tr>\n",
       "      <th>0</th>\n",
       "      <td>PKL-05</td>\n",
       "      <td>Bengal Warriors</td>\n",
       "      <td>Anil Kumar</td>\n",
       "      <td>7.0</td>\n",
       "      <td>1.0</td>\n",
       "      <td>100%</td>\n",
       "      <td>NaN</td>\n",
       "      <td>NaN</td>\n",
       "      <td>100.00%</td>\n",
       "    </tr>\n",
       "    <tr>\n",
       "      <th>1</th>\n",
       "      <td>PKL-05</td>\n",
       "      <td>Bengal Warriors</td>\n",
       "      <td>Bhupender Singh</td>\n",
       "      <td>3.0</td>\n",
       "      <td>4.0</td>\n",
       "      <td>5%</td>\n",
       "      <td>75.00%</td>\n",
       "      <td>25.00%</td>\n",
       "      <td>NaN</td>\n",
       "    </tr>\n",
       "    <tr>\n",
       "      <th>2</th>\n",
       "      <td>PKL-05</td>\n",
       "      <td>Bengal Warriors</td>\n",
       "      <td>Bhupender Singh</td>\n",
       "      <td>4.0</td>\n",
       "      <td>8.0</td>\n",
       "      <td>10%</td>\n",
       "      <td>87.50%</td>\n",
       "      <td>NaN</td>\n",
       "      <td>12.50%</td>\n",
       "    </tr>\n",
       "    <tr>\n",
       "      <th>3</th>\n",
       "      <td>PKL-05</td>\n",
       "      <td>Bengal Warriors</td>\n",
       "      <td>Bhupender Singh</td>\n",
       "      <td>5.0</td>\n",
       "      <td>22.0</td>\n",
       "      <td>27%</td>\n",
       "      <td>63.60%</td>\n",
       "      <td>13.60%</td>\n",
       "      <td>22.70%</td>\n",
       "    </tr>\n",
       "    <tr>\n",
       "      <th>4</th>\n",
       "      <td>PKL-05</td>\n",
       "      <td>Bengal Warriors</td>\n",
       "      <td>Bhupender Singh</td>\n",
       "      <td>6.0</td>\n",
       "      <td>12.0</td>\n",
       "      <td>14%</td>\n",
       "      <td>50.00%</td>\n",
       "      <td>41.70%</td>\n",
       "      <td>8.30%</td>\n",
       "    </tr>\n",
       "  </tbody>\n",
       "</table>\n",
       "</div>"
      ],
      "text/plain": [
       "   season        team_name      Raider Name  Number of Defenders  Total Raids  \\\n",
       "0  PKL-05  Bengal Warriors       Anil Kumar                  7.0          1.0   \n",
       "1  PKL-05  Bengal Warriors  Bhupender Singh                  3.0          4.0   \n",
       "2  PKL-05  Bengal Warriors  Bhupender Singh                  4.0          8.0   \n",
       "3  PKL-05  Bengal Warriors  Bhupender Singh                  5.0         22.0   \n",
       "4  PKL-05  Bengal Warriors  Bhupender Singh                  6.0         12.0   \n",
       "\n",
       "  % of Raids   Empty Successful Unsuccessful  \n",
       "0       100%     NaN        NaN      100.00%  \n",
       "1         5%  75.00%     25.00%          NaN  \n",
       "2        10%  87.50%        NaN       12.50%  \n",
       "3        27%  63.60%     13.60%       22.70%  \n",
       "4        14%  50.00%     41.70%        8.30%  "
      ]
     },
     "execution_count": 14,
     "metadata": {},
     "output_type": "execute_result"
    }
   ],
   "source": [
    "df_merged.head()\n"
   ]
  },
  {
   "cell_type": "code",
   "execution_count": 16,
   "metadata": {},
   "outputs": [],
   "source": [
    "df_merged.to_csv(\"./s5_csv/merged_csv_s5_clean.csv\", index=False)\n"
   ]
  },
  {
   "cell_type": "code",
   "execution_count": null,
   "metadata": {},
   "outputs": [],
   "source": []
  }
 ],
 "metadata": {
  "kernelspec": {
   "display_name": "cmu",
   "language": "python",
   "name": "python3"
  },
  "language_info": {
   "codemirror_mode": {
    "name": "ipython",
    "version": 3
   },
   "file_extension": ".py",
   "mimetype": "text/x-python",
   "name": "python",
   "nbconvert_exporter": "python",
   "pygments_lexer": "ipython3",
   "version": "3.10.14"
  }
 },
 "nbformat": 4,
 "nbformat_minor": 2
}
